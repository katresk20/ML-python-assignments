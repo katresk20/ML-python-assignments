{
 "cells": [
  {
   "cell_type": "code",
   "execution_count": 3,
   "metadata": {},
   "outputs": [],
   "source": [
    "## Q1. How can we create an iterator object from a list?\n",
    "## Ans: Option a) Bypassing the given list to the iter() function"
   ]
  },
  {
   "cell_type": "code",
   "execution_count": 14,
   "metadata": {},
   "outputs": [],
   "source": [
    "## Q2.\n"
   ]
  },
  {
   "cell_type": "code",
   "execution_count": 20,
   "metadata": {},
   "outputs": [],
   "source": [
    "## Q3. What is the output of the code?\n",
    "\n",
    "mylist = [1, 3, 6, 10] \n",
    "a = (x**2 for x in mylist) \n",
    "#print(next(a), next(a))\n",
    "\n",
    "# Ans:-b) 1 9"
   ]
  },
  {
   "cell_type": "code",
   "execution_count": 19,
   "metadata": {},
   "outputs": [],
   "source": [
    "## Q4. What are the criteria that must be met to create closure in Python?\n",
    "## Ans:- d) All of the above."
   ]
  },
  {
   "cell_type": "code",
   "execution_count": 30,
   "metadata": {},
   "outputs": [],
   "source": [
    "## Q5. What is the output of the code?\n",
    "def Foo(n): \n",
    "    def multiplier(x): \n",
    "        return x * n \n",
    "    return multiplier\n",
    "a = Foo(5) \n",
    "b = Foo(5) \n",
    "#print(a(b(2)))\n",
    "\n",
    "# Ans:-d) 50"
   ]
  },
  {
   "cell_type": "code",
   "execution_count": 35,
   "metadata": {},
   "outputs": [],
   "source": [
    "## Q6. What is the output of the code?\n",
    "def make_pretty(func): \n",
    "    def inner(): \n",
    "        print(\"I got decorated\") \n",
    "        func() \n",
    "    return inner \n",
    "def ordinary():\n",
    "    print(\"I am ordinary\") \n",
    "\n",
    "pretty = make_pretty(ordinary) \n",
    "#pretty()\n",
    "\n",
    "## Ans:- c) I got decorated \n",
    "#           I am ordinary"
   ]
  },
  {
   "cell_type": "code",
   "execution_count": 37,
   "metadata": {},
   "outputs": [],
   "source": [
    "## Q7 What is the more pythonic way to use getters and setters?\n",
    "\n",
    "## Ans:- d) @property"
   ]
  },
  {
   "cell_type": "code",
   "execution_count": 38,
   "metadata": {},
   "outputs": [],
   "source": [
    "## Q8 In Python, there is a built-in function property() that returns a property object. \n",
    "## The property object has which of the methods?\n",
    "\n",
    "## Ans:- a) getter() and setter()"
   ]
  },
  {
   "cell_type": "code",
   "execution_count": 39,
   "metadata": {},
   "outputs": [],
   "source": [
    "## Q9 Which of the following statement is true? \n",
    "#a)   You cannot chain multiple decorators in Python. \n",
    "#b)   Decorators don’t work with functions that take parameters. \n",
    "#c)   The @ symbol doesn’t have any use while using decorators. \n",
    "#d)   None of the above"
   ]
  },
  {
   "cell_type": "code",
   "execution_count": 46,
   "metadata": {},
   "outputs": [],
   "source": [
    "## Q10. For the following codes, which of the following statements is true?\n",
    "def printHello(): \n",
    "    print(\"Hello\") \n",
    "#a = printHello()\n",
    "\n",
    "## Ans:- Both printHello() and the reference to the same object."
   ]
  },
  {
   "cell_type": "code",
   "execution_count": 50,
   "metadata": {},
   "outputs": [],
   "source": [
    "## Q11. What is the output of the program? \n",
    "def outerFunction(): \n",
    "    global a \n",
    "    a = 20 \n",
    "    def innerFunction(): \n",
    "        global a \n",
    "        a = 30 \n",
    "        print('a =', a) \n",
    "a = 10 \n",
    "outerFunction() \n",
    "#print('a =', a)\n",
    "\n",
    "## Ans:- c) a = 20"
   ]
  },
  {
   "cell_type": "code",
   "execution_count": 51,
   "metadata": {},
   "outputs": [],
   "source": [
    "## Q12. Which of the following statements is true?\n",
    "#     a) A class is a blueprint for the object.\n",
    "#     b) You can only make the single object from the given class\n",
    "#     c) Both statements are true.\n",
    "#     d) Neither statement is true.\n",
    "\n",
    "## Ans:-a) A class is a blueprint for the object."
   ]
  },
  {
   "cell_type": "code",
   "execution_count": 57,
   "metadata": {},
   "outputs": [],
   "source": [
    "## Q13. What is the output of the code?\n",
    "class Foo: \n",
    "    def printLine(self, line='Python'): \n",
    "        print(line) \n",
    "o1 = Foo() \n",
    "#o1.printLine('Java')\n",
    "\n",
    "## Ans:- c) Java"
   ]
  },
  {
   "cell_type": "code",
   "execution_count": 59,
   "metadata": {},
   "outputs": [],
   "source": [
    "## Q14. What is the function of the __init__() function in Python?\n",
    "\n",
    "## Ans:-b) This function is called, when the new object is instantiated"
   ]
  },
  {
   "cell_type": "code",
   "execution_count": 61,
   "metadata": {},
   "outputs": [],
   "source": [
    "## Q15. What is the output of the code?\n",
    "class Point: \n",
    "    def __init__(self, x = 0, y = 0): \n",
    "        self.x = x+1 \n",
    "        self.y = y+1\n",
    "p1 = Point() \n",
    "#print(p1.x, p1.y)\n",
    "\n",
    "## Ans:- b) 1 1"
   ]
  },
  {
   "cell_type": "code",
   "execution_count": 62,
   "metadata": {},
   "outputs": [],
   "source": [
    "## Q16. Which of the following code used the inheritance feature?\n",
    "\n",
    "## Ans:- c) class Foo: \n",
    "#               pass \n",
    "#           class Hoo(Foo): \n",
    "#               pass"
   ]
  },
  {
   "cell_type": "code",
   "execution_count": 63,
   "metadata": {},
   "outputs": [],
   "source": [
    "## Q17 If you a class is derived from two different classes, it’s called ______\n",
    "\n",
    "## Ans:- b) Multiple Inheritance"
   ]
  },
  {
   "cell_type": "code",
   "execution_count": 64,
   "metadata": {},
   "outputs": [],
   "source": [
    "## Q18. Which of the following statements is true?\n",
    "#     a) In Python, the same operator may behave differently depends upon the operands.\n",
    "#     b) You can change the way operators which behave in Python.\n",
    "#     c) Special method __add()__ is called when + operator\n",
    "#     d) All of the above.\n",
    "\n",
    "## Ans:-d) All of the above."
   ]
  },
  {
   "cell_type": "code",
   "execution_count": 67,
   "metadata": {},
   "outputs": [],
   "source": [
    "## Q19. What is the output of the code? \n",
    "class Point: \n",
    "    def __init__(self, x = 0, y = 0): \n",
    "        self.x = x \n",
    "        self.y = y \n",
    "    def __sub__(self, other): \n",
    "        x = self.x + other.x\n",
    "        y = self.y + other.y \n",
    "        return Point(x,y) \n",
    "p1 = Point(3, 4)  \n",
    "p2 = Point(1, 2) \n",
    "result = p1-p2 \n",
    "#print(result.x, result.y)\n",
    "\n",
    "## Ans:-b) 4 6"
   ]
  },
  {
   "cell_type": "code",
   "execution_count": 68,
   "metadata": {},
   "outputs": [],
   "source": [
    "## Q20. Opening a file in ‘a’ mode\n",
    "\n",
    "## Ans:-c) opens the file for appending, at the end of file"
   ]
  },
  {
   "cell_type": "code",
   "execution_count": 77,
   "metadata": {},
   "outputs": [],
   "source": [
    "## Q21. What does the following code do? \n",
    "#f = open(\"test.txt\")\n",
    "\n",
    "## Ans:- b) Opens test.txt file for reading only"
   ]
  },
  {
   "cell_type": "code",
   "execution_count": 2,
   "metadata": {},
   "outputs": [],
   "source": [
    "## Q22. Which of the codes closes files automatically if an exception occurs?\n",
    "\n",
    "## Ans:- b)  try: \n",
    "#                f = open(\"test.txt\",encoding = 'utf-8')  # perform file operations \n",
    "#             finally: \n",
    "#                f.close()"
   ]
  },
  {
   "cell_type": "code",
   "execution_count": 8,
   "metadata": {},
   "outputs": [],
   "source": [
    "## Q23. For the following code\n",
    "#f = open('hangman words.txt', 'r', encoding = 'utf-8') \n",
    "#f.read\n",
    "\n",
    "## Ans:- a) This program reads the content of the test.txt file."
   ]
  },
  {
   "cell_type": "code",
   "execution_count": 20,
   "metadata": {},
   "outputs": [],
   "source": [
    "## Q24. What does the following code do? \n",
    "#import os\n",
    "#os.listdir()\n",
    "\n",
    "## Ans:- c) Prints all the directories and files inside the given directory"
   ]
  },
  {
   "cell_type": "code",
   "execution_count": 21,
   "metadata": {},
   "outputs": [],
   "source": [
    "## Q25. Which of the following is correct?\n",
    "\n",
    "## Ans:-a) An exception is an error that occurs in the runtime"
   ]
  },
  {
   "cell_type": "code",
   "execution_count": 23,
   "metadata": {},
   "outputs": [],
   "source": [
    "## Q26. What will happen if we try to open the file that doesn’t exist?\n",
    "\n",
    "## Ans:- a) A new file is created."
   ]
  },
  {
   "cell_type": "code",
   "execution_count": 25,
   "metadata": {},
   "outputs": [],
   "source": [
    "## Q27. What is the output of the code?\n",
    "\n",
    "#number = 5.0 \n",
    "#try: \n",
    "#    r = 10/number \n",
    "#    print(r) \n",
    "#except: \n",
    "#    print(\"Oops! Error occurred.\")\n",
    "\n",
    "## Ans:-b) 2.0"
   ]
  },
  {
   "cell_type": "code",
   "execution_count": 32,
   "metadata": {},
   "outputs": [],
   "source": [
    "## Q28. What does the following code do?\n",
    "\n",
    "#try: \n",
    "    #code that can raise an error \n",
    "#    pass \n",
    "#except (TypeError, ZeroDivisionError): \n",
    "#    print(\"Two\")\n",
    "    \n",
    "## Ans:- c) Prints Two if the TypeError or ZeroDivisionError exception occurs."
   ]
  },
  {
   "cell_type": "code",
   "execution_count": null,
   "metadata": {},
   "outputs": [],
   "source": [
    "## Q29. Which of the following statement is true?\n",
    "\n",
    "## Ans:- b) You can create the user-defined exception by deriving a class from Exception class."
   ]
  },
  {
   "cell_type": "code",
   "execution_count": 33,
   "metadata": {},
   "outputs": [],
   "source": [
    "## Q30. Which of the following statement is true?\n",
    "\n",
    "## Ans:- d) All of the above"
   ]
  },
  {
   "cell_type": "code",
   "execution_count": 35,
   "metadata": {},
   "outputs": [],
   "source": [
    "## Q31. What is the output of the code? \n",
    "\n",
    "#def printLine(text): \n",
    "#    print(text, 'is awesome.') \n",
    "#    \n",
    "#printLine('Python')\n",
    "\n",
    "## Ans :-b) Python is awesome."
   ]
  },
  {
   "cell_type": "code",
   "execution_count": 44,
   "metadata": {},
   "outputs": [],
   "source": [
    "## If the return statement is not used inside the function, the function will return\n",
    "\n",
    "## Ans:- b) None object"
   ]
  },
  {
   "cell_type": "code",
   "execution_count": 49,
   "metadata": {},
   "outputs": [],
   "source": [
    "## Q33. What is the output of the code?\n",
    "\n",
    "#def greetPerson(*name): \n",
    "    #print('Hello', name) \n",
    "    \n",
    "#greetPerson('Frodo', 'Sauron')\n",
    "\n",
    "#Ans:-b) Hello ('Frodo', 'Sauron')"
   ]
  },
  {
   "cell_type": "code",
   "execution_count": 50,
   "metadata": {},
   "outputs": [],
   "source": [
    "## Q34. What is a recursive function?\n",
    "\n",
    "## Ans:- b) A function that calls itself."
   ]
  },
  {
   "cell_type": "code",
   "execution_count": 52,
   "metadata": {},
   "outputs": [],
   "source": [
    "## Q35. What is the output of the program?\n",
    "\n",
    "# result = lambda x: x * x \n",
    "# print(result(5))\n",
    "\n",
    "## Ans:-c) 25"
   ]
  },
  {
   "cell_type": "code",
   "execution_count": 74,
   "metadata": {},
   "outputs": [],
   "source": [
    "## Q36. What is the output of the program?\n",
    "\n",
    "#def Foo(x): \n",
    "#    if (x==1): \n",
    "#        return 1 \n",
    "#    else:\n",
    "#        return x+Foo(x-1) \n",
    "    \n",
    "#print(Foo(4))\n",
    "\n",
    "## Ans:- a) 10"
   ]
  },
  {
   "cell_type": "code",
   "execution_count": 84,
   "metadata": {},
   "outputs": [],
   "source": [
    "## Q37. Suppose you need to print pi constant defined in the math module. Which of the following code can do this task?\n",
    "\n",
    "## Ans:- c) from math import pi 2\n",
    "#           print(pi)"
   ]
  },
  {
   "cell_type": "code",
   "execution_count": 86,
   "metadata": {},
   "outputs": [],
   "source": [
    "## Q38. Which operator is used in Python to import modules from the packages?\n",
    "\n",
    "## Ans:- a). operator"
   ]
  },
  {
   "cell_type": "code",
   "execution_count": 90,
   "metadata": {},
   "outputs": [],
   "source": [
    "## Q39. What is the output of the code? \n",
    "numbers = [1, 3, 6] \n",
    "newNumbers = tuple(map(lambda x: x , numbers)) \n",
    "#print(newNumbers)\n",
    "\n",
    "## Ans:- b) (1, 3, 6)"
   ]
  },
  {
   "cell_type": "code",
   "execution_count": 99,
   "metadata": {},
   "outputs": [],
   "source": [
    "## Q40. What is the output of the code? \n",
    "\n",
    "#if None: \n",
    "    #print(\"Hello\")\n",
    "    \n",
    "## Ans:-c) Nothing will be printed"
   ]
  },
  {
   "cell_type": "code",
   "execution_count": 100,
   "metadata": {},
   "outputs": [],
   "source": [
    "## Q41. The if-elif-else executes only one block of code among several blocks\n",
    "\n",
    "## Ans:- a) True"
   ]
  },
  {
   "cell_type": "code",
   "execution_count": 102,
   "metadata": {},
   "outputs": [],
   "source": [
    "## Q42. What is the output of the code? \n",
    "\n",
    "#for i in [1, 0]: \n",
    "    #print(i+1)\n",
    "    \n",
    "## Ans:- a) 2\n",
    "#           1"
   ]
  },
  {
   "cell_type": "code",
   "execution_count": 103,
   "metadata": {},
   "outputs": [],
   "source": [
    "## Q43. In the Python, for and while loop can have the optional else statement?\n",
    "\n",
    "## aNS:- c) Both loops can have optional else statement"
   ]
  },
  {
   "cell_type": "code",
   "execution_count": null,
   "metadata": {},
   "outputs": [],
   "source": [
    "## Q44. What is the output of the code?\n",
    "#i = sum = 0 \n",
    "#while i <= 4: \n",
    "#    sum += i \n",
    "#    i = i+1 \n",
    "#print(sum)\n",
    "\n",
    "## Ans:- b) 10"
   ]
  },
  {
   "cell_type": "code",
   "execution_count": null,
   "metadata": {},
   "outputs": [],
   "source": [
    "## Q45. What is the output of the code?\n",
    "\n",
    "#while 4 == 4: \n",
    "#    print('4')\n",
    "\n",
    "## Ans:-c) 4 is printed infinitely until the program closes"
   ]
  },
  {
   "cell_type": "code",
   "execution_count": null,
   "metadata": {},
   "outputs": [],
   "source": [
    "## Q46. Is it better to use the for loop instead of while if we are iterating through a sequence?\n",
    "\n",
    "## Ans:- b) Yes, for loop is more pythonic choice"
   ]
  },
  {
   "cell_type": "code",
   "execution_count": null,
   "metadata": {},
   "outputs": [],
   "source": [
    "## Q47. Which of the following statement is true?\n",
    "\n",
    "## Ans:- d) All of the above."
   ]
  },
  {
   "cell_type": "code",
   "execution_count": 8,
   "metadata": {},
   "outputs": [],
   "source": [
    "## Q48. What is the output of the code? \n",
    "\n",
    "#for char in 'PYTHON STRING': \n",
    "#    if char == ' ': \n",
    "#        break\n",
    "#    print(char, end='') \n",
    "#    if char == 'O': \n",
    "#        continue\n",
    " \n",
    "## Ans:- a) PYTHON"
   ]
  },
  {
   "cell_type": "code",
   "execution_count": 9,
   "metadata": {},
   "outputs": [],
   "source": [
    "## Q49. Which of the statement is true about the “pass” statement?\n",
    "\n",
    "## Ans:- c) It is used as the placeholder for future implementation of functions, loops, etc"
   ]
  },
  {
   "cell_type": "code",
   "execution_count": 10,
   "metadata": {},
   "outputs": [],
   "source": [
    "## Q50. In regards to separated value files such as .csv and .tsv, what is the delimiter?\n",
    "\n",
    "## Ans:- d) Any character such as the comma (,) or tab (\\t) that is used to separate the row data"
   ]
  },
  {
   "cell_type": "code",
   "execution_count": 11,
   "metadata": {},
   "outputs": [],
   "source": [
    "## Q51. In separated value files such as .csv and .tsv, what does the first row in the file typically contain?\n",
    "\n",
    "## Ans:-a) The column names of the data."
   ]
  },
  {
   "cell_type": "code",
   "execution_count": 12,
   "metadata": {},
   "outputs": [],
   "source": [
    "## Q52. Assume you have a file object my_data, which has properly opened a separated value file that uses the tab character (\\t)\n",
    "## as the delimiter. What is the proper way to open the file using the Python CSV module and assign it to the variable csv_reader?\n",
    "\n",
    "## Ans:-b) csv.reader(my_data, delimiter='\\t')"
   ]
  },
  {
   "cell_type": "code",
   "execution_count": 16,
   "metadata": {},
   "outputs": [],
   "source": [
    "## Q53. When iterating over an object returned from csv.reader(), what is returned with each iteration?\n",
    "# for item in csv_reader: \n",
    "#    print(item)\n",
    "\n",
    "## Ans:-a string b) The row data as a list"
   ]
  },
  {
   "cell_type": "code",
   "execution_count": 17,
   "metadata": {},
   "outputs": [],
   "source": [
    "## Q54. When writing to a CSV file using the .writerow() method of the csv.DictWriter object, \n",
    "## what must each key in the input dict represent?\n",
    "\n",
    "\n",
    "## Ans:- c) Each key must match up to the field names (column names) used to identify the column data"
   ]
  },
  {
   "cell_type": "code",
   "execution_count": 18,
   "metadata": {},
   "outputs": [],
   "source": [
    "## Q55. Which is the correct way to open the CSV file hrdata.csv for reading using the pandas package? \n",
    "## Assume that the pandas package has already been imported.\n",
    "\n",
    "## Ans:- c) pandas.read_csv('hrdata.csv')"
   ]
  },
  {
   "cell_type": "code",
   "execution_count": 19,
   "metadata": {},
   "outputs": [],
   "source": [
    "## Q56. By default, pandas uses 0-based indices for indexing rows. Which is the correct way to import the\n",
    "## CSV file hrdata.csv for reading and using the 'Name' column as the index row instead?\n",
    "\n",
    "## Ans:-a) pandas.read_csv('hrdata.csv', index_col='Name')\n",
    "#       d) pandas.read_csv('hrdata.csv', index_col=0)"
   ]
  },
  {
   "cell_type": "code",
   "execution_count": 20,
   "metadata": {},
   "outputs": [],
   "source": [
    "## Q57. Given the file dog_breeds.txt, which of the following is the correct way to open the file for \n",
    "## reading as a text file? Select all that apply\n",
    "\n",
    "## Ans:-b) open('dog_breeds.txt', 'r') \n",
    "#       c) open('dog_breeds.txt') "
   ]
  },
  {
   "cell_type": "code",
   "execution_count": 22,
   "metadata": {},
   "outputs": [],
   "source": [
    "## Q58. Given the following directory structure:\n",
    "# animals/ \n",
    "#│ ├── feline/ \n",
    "#│ ├── lions.gif\n",
    "#│ └── tigers.gif\n",
    "\n",
    "#│ \n",
    "#  ├── ursine/ \n",
    "#     └── bears.gif \n",
    "#\n",
    "#│   \n",
    "#     └── animals.csv\n",
    "  \n",
    "## Ans:- animals/feline/ursine/animal.csv\n"
   ]
  },
  {
   "cell_type": "code",
   "execution_count": 23,
   "metadata": {},
   "outputs": [],
   "source": [
    "## Q59. Given the file jack_russell.png, which of the following is the correct way to open the file \n",
    "## for reading as a buffered binary file? Select all that apply.\n",
    "\n",
    "## Ans:- open('jack_russell.png', 'rb')\n",
    "#        open('jack_russell.png', 'wb') "
   ]
  },
  {
   "cell_type": "code",
   "execution_count": 24,
   "metadata": {},
   "outputs": [],
   "source": [
    "## Q60. Given the following directory structure:\n",
    "# animals/ \n",
    "#│ ├── feline/ \n",
    "#│ ├── lions.gif\n",
    "#│ └── tigers.gif\n",
    "\n",
    "#│ \n",
    "#  ├── ursine/ \n",
    "#     └── bears.gif \n",
    "#\n",
    "#│   \n",
    "#     └── animals.csv\n",
    "  \n",
    "\n",
    "## Ans:-animals/feline/yrsine/bears.gif"
   ]
  },
  {
   "cell_type": "code",
   "execution_count": 25,
   "metadata": {},
   "outputs": [],
   "source": [
    "## Q61. Whenever possible, what is the recommended way to ensure that a file object is properly closed after usage?\n",
    "\n",
    "## Ans:- d) By using the with statement"
   ]
  },
  {
   "cell_type": "code",
   "execution_count": 27,
   "metadata": {},
   "outputs": [],
   "source": [
    "## Q62. Using the same directory structure as before\n",
    "## Assuming that the cwd is in the feline folder, what is the relative path to the file bears.gif?\n",
    "\n",
    "# animals/ \n",
    "#│ ├── feline/ \n",
    "#│ ├── lions.gif\n",
    "#│ └── tigers.gif\n",
    "\n",
    "#│ \n",
    "#  ├── ursine/ \n",
    "#     └── bears.gif \n",
    "#\n",
    "#│   \n",
    "#     └── animals.csv\n",
    " \n",
    "\n",
    "## Ans:- ../ursine/bears.gif"
   ]
  },
  {
   "cell_type": "code",
   "execution_count": 28,
   "metadata": {},
   "outputs": [],
   "source": [
    "## Q63. When reading a file using the file object, what method is best for reading the entire file into a single string?\n",
    "\n",
    "## Ans:- d) .readline()"
   ]
  },
  {
   "cell_type": "code",
   "execution_count": 30,
   "metadata": {},
   "outputs": [],
   "source": [
    "## Q64. The value 1.73 rounded to one decimal place using the “rounding up” strategy is…\n",
    "\n",
    "## Ans:-a) 1.8"
   ]
  },
  {
   "cell_type": "code",
   "execution_count": 31,
   "metadata": {},
   "outputs": [],
   "source": [
    "## Q65. The value -2.961 rounded to two decimal places using the “rounding down” strategy is…\n",
    "\n",
    "## Ans:-b) -2.97"
   ]
  },
  {
   "cell_type": "code",
   "execution_count": 32,
   "metadata": {},
   "outputs": [],
   "source": [
    "## Q66. When a value is truncated to 3 decimal places, which of the following is true? \n",
    "#     a) Positive numbers are rounded up, and negative numbers are rounded down. \n",
    "#     b) Positive numbers are rounded down, and negative numbers are rounded up. \n",
    "#     c) Both positive and negative numbers are rounded up. \n",
    "#     d) Both positive and negative numbers are rounded down.\n",
    "\n",
    "## Ans:-  b) Positive numbers are rounded down, and negative numbers are rounded up. "
   ]
  },
  {
   "cell_type": "code",
   "execution_count": 33,
   "metadata": {},
   "outputs": [],
   "source": [
    "## Q67. The value -0.045 rounded to 2 decimal places using the “round half away from zero” strategy is…\n",
    "\n",
    "## Ans:-a) -0.05"
   ]
  },
  {
   "cell_type": "code",
   "execution_count": 34,
   "metadata": {},
   "outputs": [],
   "source": [
    "## Q68. Which rounding strategy does Python’s built-in round() function use? \n",
    "#  a) Round half down \n",
    "#  b) Round half away from zero \n",
    "#  c) Round half up \n",
    "#  d) Round half to even\n",
    "\n",
    "## Ans:-  d) Round half to even"
   ]
  },
  {
   "cell_type": "code",
   "execution_count": 35,
   "metadata": {},
   "outputs": [],
   "source": [
    "## Q69. The value 4.65 rounded to one decimal place using the “round half to even” strategy is…\n",
    "\n",
    "## Ans:- a) 4.6"
   ]
  },
  {
   "cell_type": "code",
   "execution_count": 36,
   "metadata": {},
   "outputs": [],
   "source": [
    "## Q70. Which problem arises due to the multiple inheritances, if hierarchical inheritance is used previously for \n",
    "## its base classes?\n",
    "\n",
    "## Ans:- a) Diamond"
   ]
  },
  {
   "cell_type": "code",
   "execution_count": 37,
   "metadata": {},
   "outputs": [],
   "source": [
    "## Q71. How many classes should a program contain to implement the multiple inheritances?\n",
    "\n",
    "## Ans:-c) At least 3"
   ]
  },
  {
   "cell_type": "code",
   "execution_count": 38,
   "metadata": {},
   "outputs": [],
   "source": [
    "## Q72. If class a inherits class b and class c as “class a: public class b, public class c {// class body ;}; ”,\n",
    "## which class constructor will be called first?\n",
    "\n",
    "## Ans:-b) Class b"
   ]
  },
  {
   "cell_type": "code",
   "execution_count": 39,
   "metadata": {},
   "outputs": [],
   "source": [
    "## Q73.If all the members of all base classes are private then,\n",
    "\n",
    "## Ans: a) There won’t be any use of multiple inheritance"
   ]
  },
  {
   "cell_type": "code",
   "execution_count": 40,
   "metadata": {},
   "outputs": [],
   "source": [
    "## Q74. Can the derived class be made abstract if multiple inheritance is used?\n",
    "\n",
    "## Ans:-d) No, since constructors won’t be there"
   ]
  },
  {
   "cell_type": "code",
   "execution_count": 42,
   "metadata": {},
   "outputs": [],
   "source": [
    "## Q75. Which among the following best defines the multilevel inheritance?\n",
    "\n",
    "## Ans:-a) A class derived from another derived class|"
   ]
  },
  {
   "cell_type": "code",
   "execution_count": 43,
   "metadata": {},
   "outputs": [],
   "source": [
    "## Q76. If there are 5 classes, E is derived from D, D from C, C from B and B from A. \n",
    "## Which class constructor will be called first if the object of E or D is created?\n",
    "\n",
    "## Ans:- a) A"
   ]
  },
  {
   "cell_type": "code",
   "execution_count": 44,
   "metadata": {},
   "outputs": [],
   "source": [
    "## Q77. Which Class is having the highest degree of abstraction in multilevel inheritance of 5 levels?\n",
    "\n",
    "## Ans:- a) Class at 1st level"
   ]
  },
  {
   "cell_type": "code",
   "execution_count": 45,
   "metadata": {},
   "outputs": [],
   "source": [
    "## Q78. Multilevel inheritance allows _________________ in the program\n",
    "\n",
    "## Ans:- d) As many levels of inheritance as required"
   ]
  },
  {
   "cell_type": "code",
   "execution_count": 46,
   "metadata": {},
   "outputs": [],
   "source": [
    "## Q79. If all the classes used parameterized constructors and no default constructor then, ___________\n",
    "\n",
    "## Ans:-b) Object of lower-level classes must call parent class constructors explicitly"
   ]
  },
  {
   "cell_type": "code",
   "execution_count": 48,
   "metadata": {},
   "outputs": [],
   "source": [
    "## Q80. Which is the universal exception handler class?\n",
    "\n",
    "## Ans:-d) Exceptions"
   ]
  },
  {
   "cell_type": "code",
   "execution_count": 49,
   "metadata": {},
   "outputs": [],
   "source": [
    "## Q81. What are two exception classes in the hierarchy of java exceptions class?\n",
    "\n",
    "## Ans:- c) Runtime exceptions and other exceptions"
   ]
  },
  {
   "cell_type": "code",
   "execution_count": 50,
   "metadata": {},
   "outputs": [],
   "source": [
    "## Q82. Which are the two blocks that are used to check error and handle the error?\n",
    "\n",
    "## Ans:- a) Try and catch"
   ]
  },
  {
   "cell_type": "code",
   "execution_count": 51,
   "metadata": {},
   "outputs": [],
   "source": [
    "## Q83. To catch the exceptions ___________________\n",
    "\n",
    "## Ans:- a) An object must be created to catch the exception"
   ]
  },
  {
   "cell_type": "code",
   "execution_count": 52,
   "metadata": {},
   "outputs": [],
   "source": [
    "## Q84. Which class is used to handle the input and output exceptions?\n",
    "\n",
    "## Ans:- c) IOExceptions"
   ]
  },
  {
   "cell_type": "code",
   "execution_count": 54,
   "metadata": {},
   "outputs": [],
   "source": [
    "## Q85. Which among the following is true for the class exceptions?\n",
    "\n",
    "## Ans:-d) Both base class and derived class may produce exceptions"
   ]
  },
  {
   "cell_type": "code",
   "execution_count": 55,
   "metadata": {},
   "outputs": [],
   "source": [
    "## Q86. If both base and derived class caught the exceptions, _____.\n",
    "\n",
    "## Ans:-a) Then catch block of a derived class must be defined before the base class"
   ]
  },
  {
   "cell_type": "code",
   "execution_count": 56,
   "metadata": {},
   "outputs": [],
   "source": [
    "## Q87. The catching of base class the exception _________ in java.\n",
    "\n",
    "## Ans:-b) Before derived class is not allowed by the compiler"
   ]
  },
  {
   "cell_type": "code",
   "execution_count": 57,
   "metadata": {},
   "outputs": [],
   "source": [
    "## Q88. Which of the following handles the undefined class in the program?\n",
    "\n",
    "## Ans:-d) ClassNotFoundException"
   ]
  },
  {
   "cell_type": "code",
   "execution_count": 58,
   "metadata": {},
   "outputs": [],
   "source": [
    "## Q89. Which among the following is true? \n",
    "#    a) Only the base class catch the blocks are important. \n",
    "#    b) Only the derived class catch blocks are important. \n",
    "#    c) Both the base and derived class catch the blocks are important. \n",
    "#    d) If the base and derived classes both produce exceptions, the program doesn’t run.\n",
    "\n",
    "## Ans:- c) Both the base and derived class catch the blocks are important"
   ]
  },
  {
   "cell_type": "code",
   "execution_count": 59,
   "metadata": {},
   "outputs": [],
   "source": [
    "## Q90. Which condition among the following might result in memory exception?\n",
    "#    a) False if conditions \n",
    "#    b) Nested if conditions that are all false \n",
    "#    c) Infinite loops \n",
    "#    d) The loop that runs exactly 99 times\n",
    "\n",
    "## Ans:- c) Infinite loops"
   ]
  },
  {
   "cell_type": "code",
   "execution_count": 60,
   "metadata": {},
   "outputs": [],
   "source": [
    "## Q91. Which among the following is the correct definition for static member functions?\n",
    "\n",
    "## Ans:- b) Functions made to maintain a single copy of member functions for all the objects"
   ]
  },
  {
   "cell_type": "code",
   "execution_count": 61,
   "metadata": {},
   "outputs": [],
   "source": [
    "## Q92. The static member functions __________________\n",
    "\n",
    "## Ans:-c) Having access to only the static members of a class"
   ]
  },
  {
   "cell_type": "code",
   "execution_count": 62,
   "metadata": {},
   "outputs": [],
   "source": [
    "## Q93. Which is the correct syntax to access the static member functions with a class name?\n",
    "\n",
    "## Ans:- d) className :: functionName;"
   ]
  },
  {
   "cell_type": "code",
   "execution_count": 64,
   "metadata": {},
   "outputs": [],
   "source": [
    "## Q94. The static members are ______________________\n",
    "\n",
    "## Ans:-  d) Created and initialised, only once"
   ]
  },
  {
   "cell_type": "code",
   "execution_count": 65,
   "metadata": {},
   "outputs": [],
   "source": [
    "## Q95. Which among the following is true? \n",
    "#    a) Static member functions can be overloaded.\n",
    "#    b) Static member functions can’t be overloaded. \n",
    "#    c) Static member functions can be overloaded using the derived classes. \n",
    "#    d) Static member functions are implicitly overloaded.\n",
    "\n",
    "## Ans:- b) Static member functions can’t be overloaded."
   ]
  },
  {
   "cell_type": "code",
   "execution_count": 66,
   "metadata": {},
   "outputs": [],
   "source": [
    "## Q96. The static member functions _______________\n",
    "\n",
    "## Ans:-d) Can’t be declared const, volatile, or constant volatile."
   ]
  },
  {
   "cell_type": "code",
   "execution_count": 68,
   "metadata": {},
   "outputs": [],
   "source": [
    "## Q97. Which among the following can’t be used to access the members in anyway?\n",
    "#    a) Scope resolution.\n",
    "#    b) Arrow operator. \n",
    "#    c) Single colon. \n",
    "#    d) Dot operator\n",
    "\n",
    "## Ans:-c) Single colon"
   ]
  },
  {
   "cell_type": "code",
   "execution_count": 69,
   "metadata": {},
   "outputs": [],
   "source": [
    "## Q98. If static data member are made inline, ______________\n",
    "\n",
    "## Ans:- c) Those can be initialised within the class."
   ]
  },
  {
   "cell_type": "code",
   "execution_count": 70,
   "metadata": {},
   "outputs": [],
   "source": [
    "## Q99. The static data member _________________\n",
    "\n",
    "## Ans:- b) Can’t be mutable."
   ]
  },
  {
   "cell_type": "code",
   "execution_count": 71,
   "metadata": {},
   "outputs": [],
   "source": [
    "## Q100. We can use the static member functions and static data member __________________.\n",
    "\n",
    "## Ans:- a) Even if a class object is not created"
   ]
  },
  {
   "cell_type": "code",
   "execution_count": 72,
   "metadata": {},
   "outputs": [],
   "source": [
    "## Q101. Point out the wrong statement:\n",
    "#   a) ipython is an enhanced interactive python shell. \n",
    "#   b) Matplotlib: It enables us to plot graphics. \n",
    "#   c) rPy provides lots of scientific routines that work on top of NumPy. \n",
    "#   d) all of the mentioned.\n",
    "\n",
    "## Ans:- c) rPy provides lots of scientific routines that work on top of NumPy"
   ]
  },
  {
   "cell_type": "code",
   "execution_count": 73,
   "metadata": {},
   "outputs": [],
   "source": [
    "## Q102. The ________ function returns its argument with the modified shape, whereas the ________ method modifies the array itself\n",
    "\n",
    "## Ans:- a) reshape, resize."
   ]
  },
  {
   "cell_type": "code",
   "execution_count": 74,
   "metadata": {},
   "outputs": [],
   "source": [
    "## Q103. To create sequences of the numbers, NumPy provides a function __________ analogous to range that returns arrays \n",
    "## instead of lists.\n",
    "\n",
    "### a) arrange."
   ]
  },
  {
   "cell_type": "code",
   "execution_count": 75,
   "metadata": {},
   "outputs": [],
   "source": [
    "## Q104. Point out the correct statement: \n",
    "#   a) NumPy main object is the Homogeneous -Multidimensional array. \n",
    "#   b) In Numpy, dimensions are called axes.\n",
    "#   c) Numpy array class is called ndarray. \n",
    "#   d) All of the Mentioned\n",
    "\n",
    "## Ans:- d) All of the Mentioned\n"
   ]
  },
  {
   "cell_type": "code",
   "execution_count": 76,
   "metadata": {},
   "outputs": [],
   "source": [
    "## Q105. Which of the following function stack 1D array as the columns into the 2D array?\n",
    "\n",
    "## Ans:- b) column_stack."
   ]
  },
  {
   "cell_type": "code",
   "execution_count": 78,
   "metadata": {},
   "outputs": [],
   "source": [
    "## Q106. ndarray is also known as an alias array\n",
    "\n",
    "## Ans:- a) True"
   ]
  },
  {
   "cell_type": "code",
   "execution_count": 79,
   "metadata": {},
   "outputs": [],
   "source": [
    "## Q107. Which of the following method creates the new array object that looks at the same data?\n",
    "\n",
    "## Ans:- a) view."
   ]
  },
  {
   "cell_type": "code",
   "execution_count": 80,
   "metadata": {},
   "outputs": [],
   "source": [
    "## Q108. Which of the functions can be used to combine the different vectors to obtain the result for each n-uplet?\n",
    "\n",
    "## Ans:- b) ix_."
   ]
  },
  {
   "cell_type": "code",
   "execution_count": 81,
   "metadata": {},
   "outputs": [],
   "source": [
    "## Q109. ndarray.dataitemSize is the buffer containing actual elements of an array.\n",
    "\n",
    "## Ans:- a) True"
   ]
  },
  {
   "cell_type": "code",
   "execution_count": 82,
   "metadata": {},
   "outputs": [],
   "source": [
    "## Q110. Which of the following is in the NumPy library?\n",
    "#    a) The n-dimensional array object \n",
    "#    b) The tools for integrating C/C++ and the Fortran code \n",
    "#   c) Fourier transform \n",
    "#   d) all of the Mentioned\n",
    "\n",
    "## Ans:-  d) all of the Mentioned\n"
   ]
  },
  {
   "cell_type": "code",
   "execution_count": 83,
   "metadata": {},
   "outputs": [],
   "source": [
    "## Q111. Which of the following sets the size of the buffer used in ufuncs ?\n",
    "#    a) bufsize(size) \n",
    "#    b) setsize(size)\n",
    "#    c) setbufsize(size) \n",
    "#    d) all of the Mentioned\n",
    "\n",
    "## Ans:- c) setbufsize(size)"
   ]
  },
  {
   "cell_type": "code",
   "execution_count": 84,
   "metadata": {},
   "outputs": [],
   "source": [
    "## Q112. Point out the wrong statement: \n",
    "#     a) A universal function is the function that operates upon the “ndarrays” in an element-by-element fashion \n",
    "#     b) In Numpy, universal functions are the instances of numpy.ufunction class \n",
    "#     c) Many of the built-in functions are implemented in compiled C code \n",
    "#     d) All of the Mentioned\n",
    "\n",
    "## Ans:- b) In Numpy, universal functions are the instances of numpy.ufunction class"
   ]
  },
  {
   "cell_type": "code",
   "execution_count": 85,
   "metadata": {},
   "outputs": [],
   "source": [
    "## Q113. Which of the following attribute should be used while checking the type combination input and output?\n",
    "\n",
    "## Ans:- a) .types"
   ]
  },
  {
   "cell_type": "code",
   "execution_count": 86,
   "metadata": {},
   "outputs": [],
   "source": [
    "## Q114. Which of the following returns an array of “ones” with the same shape and type as a given array?\n",
    "\n",
    "## Ans:- b) ones_like"
   ]
  },
  {
   "cell_type": "code",
   "execution_count": 87,
   "metadata": {},
   "outputs": [],
   "source": [
    "## Q115. Point out the wrong statement: \n",
    "#   a) Each universal function takes an array input and produces array outputs \n",
    "#   b) Broadcasting is used throughout NumPy to decide how to handle the disparately shaped arrays \n",
    "#   c) The output of the ufunc is necessarily a ndarray, if all the input arguments are ndarrays \n",
    "#   d) All of the Mentioned\n",
    "\n",
    "## Ans:- c) The output of the ufunc is necessarily a ndarray, if all the input arguments are ndarrays"
   ]
  },
  {
   "cell_type": "code",
   "execution_count": 88,
   "metadata": {},
   "outputs": [],
   "source": [
    "## Q116. Which of the following set of a floating-point error callback function or a log object?\n",
    "\n",
    "## Ans:- b) settercall."
   ]
  },
  {
   "cell_type": "code",
   "execution_count": 89,
   "metadata": {},
   "outputs": [],
   "source": [
    "## Q117. Some ufuncs can take output arguments.\n",
    "\n",
    "## Ans:- b) False"
   ]
  },
  {
   "cell_type": "code",
   "execution_count": 90,
   "metadata": {},
   "outputs": [],
   "source": [
    "## Q118. ___________ decompose the elements of x into the mantissa and the two’s exponent.\n",
    "\n",
    "## Ans:- c) frexp"
   ]
  },
  {
   "cell_type": "code",
   "execution_count": 91,
   "metadata": {},
   "outputs": [],
   "source": [
    "## Q119. Which of the following function take the only a single value as input?\n",
    "\n",
    "## Ans:- a) iscomplex."
   ]
  },
  {
   "cell_type": "code",
   "execution_count": 92,
   "metadata": {},
   "outputs": [],
   "source": [
    "## Q120. The array object returned by the _array_prepare_ is passed to ufunc for computation.\n",
    "\n",
    "## Ans:- a) True"
   ]
  },
  {
   "cell_type": "code",
   "execution_count": 93,
   "metadata": {},
   "outputs": [],
   "source": [
    "## Q121. All pandas data structures are ___mutable but not always _______-mutable.\n",
    "\n",
    "## Ans:- c) value,size."
   ]
  },
  {
   "cell_type": "code",
   "execution_count": 94,
   "metadata": {},
   "outputs": [],
   "source": [
    "## Q122. Point out the correct statement:\n",
    "#    a) Pandas consist of a set of the labelled array data structures \n",
    "#    b) Pandas consist of an integrated group by the engine for aggregating and the transforming data sets \n",
    "#    c) Pandas consist of moving window statistics \n",
    "#    d) All of the above mentioned.\n",
    "\n",
    "## Ans:- d) All of the above mentioned.\n"
   ]
  },
  {
   "cell_type": "code",
   "execution_count": 95,
   "metadata": {},
   "outputs": [],
   "source": [
    "## Q123. Which of the following statement will import the pandas?\n",
    "\n",
    "## Ans:- a) import pandas as pd"
   ]
  },
  {
   "cell_type": "code",
   "execution_count": 96,
   "metadata": {},
   "outputs": [],
   "source": [
    "## Q124. Which of the following object did we get after reading the CSV file?\n",
    "\n",
    "## Ans:- a) DataFrame."
   ]
  },
  {
   "cell_type": "code",
   "execution_count": 97,
   "metadata": {},
   "outputs": [],
   "source": [
    "## Q125. Point out the wrong statement: \n",
    "#    a) Series is 1D labelled homogeneously-typed array. \n",
    "#    b) DataFrame is a general 2D labelled, size-mutable tabular structure with the potentially heterogeneously-typed columns. \n",
    "#    c) The panel is generally 2D labelled, also a size-mutable array. \n",
    "#    d) None of the Mentioned.\n",
    "\n",
    "## Ans:-  c) The panel is generally 2D labelled, also a size-mutable array. "
   ]
  },
  {
   "cell_type": "code",
   "execution_count": 98,
   "metadata": {},
   "outputs": [],
   "source": [
    "##Q126. Which of the following library is similar to the pandas?\n",
    "\n",
    "## Ans:- a) numpy."
   ]
  },
  {
   "cell_type": "code",
   "execution_count": 99,
   "metadata": {},
   "outputs": [],
   "source": [
    "##Q127. Panel is a container for the Series, and DataFrame is a container for DataFrame objects.\n",
    "\n",
    "## Ans:- b) False"
   ]
  },
  {
   "cell_type": "code",
   "execution_count": 100,
   "metadata": {},
   "outputs": [],
   "source": [
    "## Q128. Which of the following is the prominent python “statistics and econometrics library”?\n",
    "\n",
    "## Ans:- c) Statsmodels."
   ]
  },
  {
   "cell_type": "code",
   "execution_count": 101,
   "metadata": {},
   "outputs": [],
   "source": [
    "## Q129. Which of the following is the foundational exploratory visualisation package for the R language in the pandas ecosystem\n",
    "\n",
    "## Ans:- a) yhat."
   ]
  },
  {
   "cell_type": "code",
   "execution_count": 102,
   "metadata": {},
   "outputs": [],
   "source": [
    "## Q130. Pandas consist of static and the moving window linear and panel regression\n",
    "\n",
    "## Ans:- a) True"
   ]
  },
  {
   "cell_type": "code",
   "execution_count": 103,
   "metadata": {},
   "outputs": [],
   "source": [
    "## Q131. Quandl API for Python wraps the __ REST API to returns the pandas DataFrames with time series indexes\n",
    "\n",
    "## Ans:- a) Quandl."
   ]
  },
  {
   "cell_type": "code",
   "execution_count": 104,
   "metadata": {},
   "outputs": [],
   "source": [
    "## Q132. Point out the correct statement: \n",
    "#  a) Statsmodels provides powerful statistics, econometrics, analysis and the modelling functionality which is out of pandas’ scope \n",
    "#  b) Vintage leverages pandas objects as an underlying data container for the computation\n",
    "#  c) Bokeh is a Python interactive visualisation library for the small datasets \n",
    "#  d) All of the Mentioned\n",
    "\n",
    "## Ans:- a) Statsmodels provides powerful statistics, econometrics, analysis and the modelling functionality which \n",
    "##        is out of pandas’ scope"
   ]
  },
  {
   "cell_type": "code",
   "execution_count": 105,
   "metadata": {},
   "outputs": [],
   "source": [
    "## Q133.Which of the following library is used to retrieve and to acquire statistical data and metadata disseminated in SDMX 2.1?\n",
    "\n",
    "## Ans:- a) pandaSDMX"
   ]
  },
  {
   "cell_type": "code",
   "execution_count": 106,
   "metadata": {},
   "outputs": [],
   "source": [
    "## Q134. Which of the following provides the standard API for doing computations with MongoDB?\n",
    "\n",
    "## Ans:- a) Blaze."
   ]
  },
  {
   "cell_type": "code",
   "execution_count": 107,
   "metadata": {},
   "outputs": [],
   "source": [
    "## Q135. Point out the wrong statement:\n",
    "#    a) qgrid is an interactive grid for sorting and the filtering DataFrames \n",
    "#    b) Pandas DataFrames implement _repr_html_ methods which are utilised by the IPython Notebook\n",
    "#    c) Spyder is a cross-platform Qt-based open-source R IDE \n",
    "#    d) None of the Mentioned\n",
    "\n",
    "## Ans:- c) Spyder is a cross-platform Qt-based open-source R IDE "
   ]
  },
  {
   "cell_type": "code",
   "execution_count": 108,
   "metadata": {},
   "outputs": [],
   "source": [
    "## Q136. Which of the following makes use of the pandas and returns data in a Series or DataFrame?\n",
    "\n",
    "## Ans:- b) freedapi."
   ]
  },
  {
   "cell_type": "code",
   "execution_count": 109,
   "metadata": {},
   "outputs": [],
   "source": [
    "## Q137. Spyder can introspect and display Pandas DataFrames\n",
    "\n",
    "## Ans:- b) False"
   ]
  },
  {
   "cell_type": "code",
   "execution_count": 110,
   "metadata": {},
   "outputs": [],
   "source": [
    "## Q138. Which of the following is used for machine learning in the python?\n",
    "\n",
    "## Ans:- a) sci-kit-learn."
   ]
  },
  {
   "cell_type": "code",
   "execution_count": 111,
   "metadata": {},
   "outputs": [],
   "source": [
    "## Q139. The ________ project builds on top of the pandas and matplotlib to provide easy plotting of data.\n",
    "\n",
    "## Ans:- b) Seaborn."
   ]
  },
  {
   "cell_type": "code",
   "execution_count": 112,
   "metadata": {},
   "outputs": [],
   "source": [
    "## Q140 x-ray brings the labelled data power of pandas to the physical sciences.\n",
    "\n",
    "## Ans:- a) True"
   ]
  },
  {
   "cell_type": "code",
   "execution_count": 113,
   "metadata": {},
   "outputs": [],
   "source": [
    "## Q141. Which of the following is the base layer of all of the sparse has it indexed data structures?\n",
    "\n",
    "## Ans:- b) SparseArray"
   ]
  },
  {
   "cell_type": "code",
   "execution_count": 114,
   "metadata": {},
   "outputs": [],
   "source": [
    "## Q142. Point out the correct statement. \n",
    "#   a) All of the standard pandas data structures have to_sparse method \n",
    "#   b) Any sparse object can be converted back to the standard dense form by calling the to_dense \n",
    "#   c) The sparse objects exist for memory efficiency reasons. \n",
    "#   d) All of the mentioned.\n",
    "\n",
    "## Ans:- d) All of the mentioned"
   ]
  },
  {
   "cell_type": "code",
   "execution_count": 115,
   "metadata": {},
   "outputs": [],
   "source": [
    "## Q143. Which of the following is not an indexed object?\n",
    "\n",
    "## Ans:- d) None of the mentioned"
   ]
  },
  {
   "cell_type": "code",
   "execution_count": 116,
   "metadata": {},
   "outputs": [],
   "source": [
    "## Q144. Which of the following list like data structure is used for managing the dynamic collection of SparseArrays?\n",
    "\n",
    "## Ans:- a) SparseList"
   ]
  },
  {
   "cell_type": "code",
   "execution_count": 117,
   "metadata": {},
   "outputs": [],
   "source": [
    "## Q145. Point out the wrong statement. \n",
    "#    a) to_array. append can accept scalar values or any 2-D sequence. \n",
    "#    b) Two kinds of SparseIndex are implemented. \n",
    "#    c) The integer format keeps an arrays of all locations, where the data are not equal to the fill value. \n",
    "#    d) None of the mentioned.\n",
    "\n",
    "## Ans:-  a) to_array. append can accept scalar values or any 2-D sequence."
   ]
  },
  {
   "cell_type": "code",
   "execution_count": 118,
   "metadata": {},
   "outputs": [],
   "source": [
    "## Q146. Which of the following method used for transforming the Sparse-series index by the MultiIndex \n",
    "## to a scipy.sparse.coo_matrix?\n",
    "\n",
    "## Ans:- a) SparseSeries.to_coo()."
   ]
  },
  {
   "cell_type": "code",
   "execution_count": 119,
   "metadata": {},
   "outputs": [],
   "source": [
    "## Q147. The integer format tracks only the locations and the sizes of blocks of data.\n",
    "\n",
    "## Ans:- b) False"
   ]
  },
  {
   "cell_type": "code",
   "execution_count": 120,
   "metadata": {},
   "outputs": [],
   "source": [
    "## Q148. Which of the following is used for the testing for membership in the list of column names?\n",
    "\n",
    "## Ans:- a) in."
   ]
  },
  {
   "cell_type": "code",
   "execution_count": 121,
   "metadata": {},
   "outputs": [],
   "source": [
    "## Q149. Which of the following indexing capabilities is used as the concise means of selecting data from a pandas object?\n",
    "\n",
    "## Ans:- b) ix."
   ]
  },
  {
   "cell_type": "code",
   "execution_count": 122,
   "metadata": {},
   "outputs": [],
   "source": [
    "## Q150. Pandas follow the NumPy convention of raising an error when you try to convert something to a bool.\n",
    "\n",
    "## Ans:- a) True"
   ]
  },
  {
   "cell_type": "code",
   "execution_count": null,
   "metadata": {},
   "outputs": [],
   "source": []
  }
 ],
 "metadata": {
  "kernelspec": {
   "display_name": "Python 3",
   "language": "python",
   "name": "python3"
  },
  "language_info": {
   "codemirror_mode": {
    "name": "ipython",
    "version": 3
   },
   "file_extension": ".py",
   "mimetype": "text/x-python",
   "name": "python",
   "nbconvert_exporter": "python",
   "pygments_lexer": "ipython3",
   "version": "3.7.6"
  }
 },
 "nbformat": 4,
 "nbformat_minor": 4
}
