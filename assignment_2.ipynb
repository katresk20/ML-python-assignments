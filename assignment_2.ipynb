{
 "cells": [
  {
   "cell_type": "code",
   "execution_count": 157,
   "metadata": {},
   "outputs": [],
   "source": [
    "### TASK 1\n",
    "\n",
    "### 1.1\n",
    "###Write a Python Program to implement your own myreduce() function which works exactly like Python's built-in function reduce()"
   ]
  },
  {
   "cell_type": "code",
   "execution_count": 158,
   "metadata": {},
   "outputs": [
    {
     "name": "stdout",
     "output_type": "stream",
     "text": [
      "1\n",
      "Result : 120\n"
     ]
    }
   ],
   "source": [
    "def my_reduce(fun1, sequence):\n",
    "    res = sequence[0]\n",
    "    print(res)\n",
    "    for i in sequence[1:]:\n",
    "        res = fun1(res, i)\n",
    "    return res\n",
    "    \n",
    "def product(x,y):\n",
    "    return x * y\n",
    "\n",
    "numbers=[1,2,3,4,5]\n",
    "\n",
    "print (\"Result : \"+ str(my_reduce(product, numbers)) )"
   ]
  },
  {
   "cell_type": "code",
   "execution_count": 159,
   "metadata": {},
   "outputs": [],
   "source": [
    "###1.2\n",
    "###Write a Python program to implement your own myfilter() function which works exactly like Python's built-in function filter()"
   ]
  },
  {
   "cell_type": "code",
   "execution_count": 160,
   "metadata": {},
   "outputs": [
    {
     "name": "stdout",
     "output_type": "stream",
     "text": [
      "Result : [1, 5, 7]\n"
     ]
    }
   ],
   "source": [
    "def myfilter(fun1, sequence):\n",
    "    result = []\n",
    "    for i in sequence:\n",
    "        if fun1(i):\n",
    "            result.append(i)\n",
    "    return result\n",
    "    \n",
    "\n",
    "def isodd(x):\n",
    "    return True if x%2!=0 else False\n",
    "\n",
    "numbers =[1,5,7,4,8]\n",
    "res =str(myfilter(isodd, numbers))\n",
    "\n",
    "print(\"Result : \"+res)\n",
    "\n"
   ]
  },
  {
   "cell_type": "code",
   "execution_count": 161,
   "metadata": {},
   "outputs": [
    {
     "name": "stdout",
     "output_type": "stream",
     "text": [
      "['A', 'C', 'A', 'D', 'G', 'I', 'L', 'D']\n",
      "['x', 'xx', 'xxx', 'xxxx', 'y', 'yy', 'yyy', 'yyyy', 'z', 'zz', 'zzz', 'zzzz']\n",
      "['x', 'y', 'z', 'xx', 'yy', 'zz', 'xxx', 'yyy', 'zzz', 'xxxx', 'yyyy', 'zzzz']\n",
      "[[2], [3], [4], [3], [4], [5], [4], [5], [6]]\n",
      "[[2, 3, 4, 5], [3, 4, 5, 6], [4, 5, 6, 7], [5, 6, 7, 8]]\n",
      "[(1, 1), (2, 1), (3, 1), (1, 2), (2, 2), (3, 2), (1, 3), (2, 3), (3, 3)]\n"
     ]
    }
   ],
   "source": [
    "###Implement List comprehensions to produce the following lists.\n",
    "###2\n",
    "##Write List comprehensions to produce the following Lists\n",
    "\n",
    "\n",
    "\n",
    "s=\"ACADGILD\"\n",
    "S=[i for i in s]\n",
    "print(S)\n",
    "\n",
    "a=['x','y','z']\n",
    "digits=[1,2,3,4]\n",
    "X=[num*j for num in a for j in digits]\n",
    "print(X)\n",
    "\n",
    "a=['x','y','z']\n",
    "digits=[1,2,3,4]\n",
    "Y=[num*i for num in digits for i in a]\n",
    "print(Y)\n",
    "\n",
    "\n",
    "l=[1,2,3,4,5,6]\n",
    "digits=[1,2,3]\n",
    "r=[[j] for i in digits for j in l[i:i+3]]\n",
    "print(r)\n",
    "\n",
    "\n",
    "digits = [1, 2, 3, 4, 5, 6, 7, 8]\n",
    "comp_list = [ digits[x:x+4] for x in digits[:4] ]\n",
    "print(comp_list)\n",
    "\n",
    "digits=[1,2,3]\n",
    "t=[(j,i) for i in digits for j in digits]\n",
    "print(t)\n"
   ]
  },
  {
   "cell_type": "code",
   "execution_count": 162,
   "metadata": {},
   "outputs": [],
   "source": [
    "### 3.\n",
    "###Implement a function longestWord() that takes a list of words and returns the longest one."
   ]
  },
  {
   "cell_type": "code",
   "execution_count": 163,
   "metadata": {},
   "outputs": [
    {
     "name": "stdout",
     "output_type": "stream",
     "text": [
      "Marketing\n"
     ]
    }
   ],
   "source": [
    "def longestword(words_list):\n",
    "    res = []\n",
    "    for i in words_list:\n",
    "        res.append((len(i), i))\n",
    "    res.sort()\n",
    "    return res[-1][1]\n",
    "    \n",
    "\n",
    "print(longestword([\"HR\", \"Accounts\", \"Marketing\",\"Sales\"]))"
   ]
  },
  {
   "cell_type": "code",
   "execution_count": 164,
   "metadata": {},
   "outputs": [],
   "source": [
    "#### TASK 2\n",
    "\n",
    "#### 1.1\n",
    "###Write a Python Program(with class concepts) to find the area of the triangle using the below formula.\n",
    "##area = (s*(s-a)*(s-b)*(s-c)) ** 0.5\n",
    "##Function to take the length of the sides of triangle from user should be defined in the parent\n",
    "##class and function to calculate the area should be defined in subclass."
   ]
  },
  {
   "cell_type": "code",
   "execution_count": 166,
   "metadata": {},
   "outputs": [
    {
     "name": "stdout",
     "output_type": "stream",
     "text": [
      "Enter side 1: 4\n",
      "Enter side 2: 6\n",
      "Enter side 3: 7\n",
      "Area of triangle is: 11.976539567003485\n"
     ]
    }
   ],
   "source": [
    "class Shape():\n",
    "    def __init__(self, no_of_sides):\n",
    "        self.no_of_sides = no_of_sides\n",
    "        self.side_measures = [0 for i in range(no_of_sides)]\n",
    "        \n",
    "    def get_sides(self):\n",
    "        for i in range(self.no_of_sides):\n",
    "            self.side_measures[i] = int(input(f'Enter side {i+1}: '))\n",
    "        \n",
    "\n",
    "class Triangle(Shape):\n",
    "    def __init__(self):\n",
    "        Shape.__init__(self, 3)\n",
    "        \n",
    "    def calculate_s(self):\n",
    "        self.side_a, self.side_b, self.side_c = self.side_measures\n",
    "        return ((self.side_a + self.side_b + self.side_c) / 2)\n",
    "        \n",
    "    def calculate_area(self):\n",
    "        s = self.calculate_s()\n",
    "        return (s * (s-self.side_a) * (s-self.side_b) * (s-self.side_c)) ** 0.5\n",
    "    \n",
    "triangle1 = Triangle()\n",
    "triangle1.get_sides()\n",
    "print(f'Area of triangle is: {triangle1.calculate_area()}')"
   ]
  },
  {
   "cell_type": "code",
   "execution_count": 167,
   "metadata": {},
   "outputs": [],
   "source": [
    "####1.2\n",
    "\n",
    "###Write a function filter_long_words() that takes a list of words and an integer n and returns the list \n",
    "### of words that are longer than n."
   ]
  },
  {
   "cell_type": "code",
   "execution_count": 168,
   "metadata": {},
   "outputs": [
    {
     "name": "stdout",
     "output_type": "stream",
     "text": [
      "['Developers', 'Marketing']\n"
     ]
    }
   ],
   "source": [
    "def filter_long_words(list_of_words, n):\n",
    "    return filter(lambda i : True if len(i) > n  else False, list_of_words)\n",
    "\n",
    "words=[\"HR\", \"Developers\", \"Marketing\",\"Tableu\"]\n",
    "n=8\n",
    "print(list(filter_long_words(words, n)))"
   ]
  },
  {
   "cell_type": "code",
   "execution_count": 169,
   "metadata": {},
   "outputs": [],
   "source": [
    "### 2.1\n",
    "\n",
    "### Write a Python program using function concept that maps list of words into a list of integers\n",
    "### representing the lengths of the corresponding words .\n",
    "\n",
    "### Hint: If a list [ ab,cde,erty] is passed on to the python function output should come as [2,3,4]\n",
    "##Here 2,3 and 4 are the lengths of the words in the list."
   ]
  },
  {
   "cell_type": "code",
   "execution_count": 170,
   "metadata": {},
   "outputs": [
    {
     "name": "stdout",
     "output_type": "stream",
     "text": [
      "[2, 8, 9, 5]\n"
     ]
    }
   ],
   "source": [
    "def mymap(word_list):\n",
    "    return list(map(lambda i : len(i), word_list))\n",
    "\n",
    "words=[\"HR\", \"Accounts\", \"Marketing\",\"Sales\"]\n",
    "print(mymap(words))\n"
   ]
  },
  {
   "cell_type": "code",
   "execution_count": null,
   "metadata": {},
   "outputs": [],
   "source": []
  },
  {
   "cell_type": "code",
   "execution_count": null,
   "metadata": {},
   "outputs": [],
   "source": []
  }
 ],
 "metadata": {
  "kernelspec": {
   "display_name": "Python 3",
   "language": "python",
   "name": "python3"
  },
  "language_info": {
   "codemirror_mode": {
    "name": "ipython",
    "version": 3
   },
   "file_extension": ".py",
   "mimetype": "text/x-python",
   "name": "python",
   "nbconvert_exporter": "python",
   "pygments_lexer": "ipython3",
   "version": "3.7.4"
  }
 },
 "nbformat": 4,
 "nbformat_minor": 2
}
