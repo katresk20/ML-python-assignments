{
 "cells": [
  {
   "cell_type": "code",
   "execution_count": 275,
   "metadata": {},
   "outputs": [],
   "source": [
    "### TASK 1\n",
    "\n",
    "## 1\n",
    "\n",
    "##Write a function to compute 5/0 and use try/except to catch the exceptions\n"
   ]
  },
  {
   "cell_type": "code",
   "execution_count": 70,
   "metadata": {},
   "outputs": [
    {
     "name": "stdout",
     "output_type": "stream",
     "text": [
      "Division by zero\n"
     ]
    }
   ],
   "source": [
    "def divide():\n",
    "    return 5/0\n",
    "try:\n",
    "    divide()\n",
    "except ZeroDivisionError as ze:\n",
    "    print(\"Division by zero\")\n",
    "except:\n",
    "    print(\"caught an  exception\")\n",
    "    \n",
    "    "
   ]
  },
  {
   "cell_type": "code",
   "execution_count": 311,
   "metadata": {},
   "outputs": [],
   "source": [
    "\n",
    "## 2\n",
    "\n",
    "###Implement a Python program to generate all sentences where subject is in [\"Americans\",\n",
    "###   \"Indians\"] and verb is in [\"Play\", \"watch\"] and the object is in [\"Baseball\",\"cricket\"].\n",
    "\n",
    "## Hint: Subject,Verb and Object should be declared in the program as shown below.\n",
    "## subjects=[\"Americans \",\"Indians\"]\n",
    "## verbs=[\"play\",\"watch\"]\n",
    "## objects=[\"Baseball\",\"Cricket\"]\n"
   ]
  },
  {
   "cell_type": "code",
   "execution_count": 71,
   "metadata": {},
   "outputs": [
    {
     "name": "stdout",
     "output_type": "stream",
     "text": [
      "Americans play Baseball \n",
      "Americans play Cricket \n",
      "Americans watch Baseball \n",
      "Americans watch Cricket \n",
      "Indians play Baseball \n",
      "Indians play Cricket \n",
      "Indians watch Baseball \n",
      "Indians watch Cricket \n"
     ]
    }
   ],
   "source": [
    "sub=[\"Americans\",\"Indians\"]\n",
    "ver=[\"play\",\"watch\"]\n",
    "ob=[\"Baseball\",\"Cricket\"]\n",
    "\n",
    "\n",
    "            \n",
    "s=[(i+\" \"+j+\" \"+k+\" \") for i in sub for j in ver for k in ob]\n",
    "for sentence in s:\n",
    "    print(sentence)\n",
    "    "
   ]
  },
  {
   "cell_type": "code",
   "execution_count": null,
   "metadata": {},
   "outputs": [],
   "source": [
    "## Write a function so that the columns of the output matrix are powers of the input vector.\n",
    "## The order of the powers is determined by the increasing boolean argument. Specifically, when\n",
    "## increasing is False, the i-th output column is the input vector raised element-wise to the power\n",
    "## of N - i - 1.\n",
    "\n",
    "### HiNT: Such a matrix with a geometric progression in each row is named for Alexandre-Theophile Vandermonde."
   ]
  },
  {
   "cell_type": "code",
   "execution_count": 333,
   "metadata": {},
   "outputs": [
    {
     "name": "stdout",
     "output_type": "stream",
     "text": [
      "[1, 1, 1, 1, 1]\n",
      "[1, 2, 4, 8, 16]\n",
      "[1, 3, 9, 27, 81]\n",
      "[1, 4, 16, 64, 256]\n",
      "[1, 5, 25, 125, 625]\n",
      "[1, 1, 1, 1, 1]\n",
      "[16, 8, 4, 2, 1]\n",
      "[81, 27, 9, 3, 1]\n",
      "[256, 64, 16, 4, 1]\n",
      "[625, 125, 25, 5, 1]\n"
     ]
    }
   ],
   "source": [
    "def generate_vect(ip_vector,n,increasing=False):\n",
    "    if not increasing:\n",
    "        op_vector=[[i**j for j in range(n-1,-1,-1)] for i in ip_vector]\n",
    "    elif increasing:\n",
    "        op_vector=[[i**j for j in range(n)] for i in ip_vector]\n",
    "    return op_vector\n",
    "\n",
    "\n",
    "ip_vector=[1,2,3,4,5]\n",
    "n=len(ip_vector)\n",
    "y=generate_vect(ip_vector,n,True)\n",
    "print(*y,sep=\"\\n\")\n",
    "\n",
    "ip_vector=[1,2,3,4,5]\n",
    "n=len(ip_vector)\n",
    "y=generate_vect(ip_vector,n,False)\n",
    "print(*y,sep=\"\\n\")"
   ]
  },
  {
   "cell_type": "code",
   "execution_count": null,
   "metadata": {},
   "outputs": [],
   "source": []
  }
 ],
 "metadata": {
  "kernelspec": {
   "display_name": "Python 3",
   "language": "python",
   "name": "python3"
  },
  "language_info": {
   "codemirror_mode": {
    "name": "ipython",
    "version": 3
   },
   "file_extension": ".py",
   "mimetype": "text/x-python",
   "name": "python",
   "nbconvert_exporter": "python",
   "pygments_lexer": "ipython3",
   "version": "3.7.4"
  }
 },
 "nbformat": 4,
 "nbformat_minor": 2
}
